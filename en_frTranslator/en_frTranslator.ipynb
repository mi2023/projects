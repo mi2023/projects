{
 "cells": [
  {
   "cell_type": "markdown",
   "metadata": {
    "collapsed": true
   },
   "source": [
    "# Introduction\n",
    "\n",
    "For Assignment 2, I have built a deep learning model to perform end-to-end machine translation from English to French. This pipeline will accpet text in English as inputs and produce its French translation accordingly. To produce the best possible model, I have tested a few before finalizing the one to be used ultimately for this task."
   ]
  },
  {
   "cell_type": "markdown",
   "metadata": {},
   "source": [
    "# 1. Getting Started"
   ]
  },
  {
   "cell_type": "code",
   "execution_count": 15,
   "metadata": {},
   "outputs": [
    {
     "name": "stdout",
     "output_type": "stream",
     "text": [
      "The autoreload extension is already loaded. To reload it, use:\n",
      "  %reload_ext autoreload\n"
     ]
    }
   ],
   "source": [
    "# pre-start setup\n",
    "%load_ext autoreload\n",
    "%aimport helper\n",
    "%autoreload 1"
   ]
  },
  {
   "cell_type": "code",
   "execution_count": 6,
   "metadata": {},
   "outputs": [],
   "source": [
    "# import all necessary libraries to start\n",
    "\n",
    "import warnings\n",
    "warnings.filterwarnings('ignore')\n",
    "\n",
    "import os\n",
    "import collections\n",
    "import numpy as np\n",
    "import matplotlib. pyplot as plt\n",
    "from keras.models import load_model\n",
    "from keras.preprocessing.text import Tokenizer\n",
    "from keras.preprocessing.sequence import pad_sequences\n",
    "from keras.models import Model\n",
    "from keras.layers import LSTM, GRU, Input, Dense, TimeDistributed, Activation, RepeatVector, Bidirectional\n",
    "from keras.layers.embeddings import Embedding\n",
    "from keras.optimizers import Adam\n",
    "from keras.losses import sparse_categorical_crossentropy\n",
    "from keras.utils import plot_model"
   ]
  },
  {
   "cell_type": "markdown",
   "metadata": {},
   "source": [
    "# 2.  Load Data & Show Examples"
   ]
  },
  {
   "cell_type": "code",
   "execution_count": 8,
   "metadata": {},
   "outputs": [
    {
     "name": "stdout",
     "output_type": "stream",
     "text": [
      "en_data Line 1:  the united states is usually chilly during july , and it is usually freezing in november .\n",
      "fr_data Line 1:  les états-unis est généralement froid en juillet , et il gèle habituellement en novembre .\n",
      "en_data Line 2:  california is usually quiet during march , and it is usually hot in june .\n",
      "fr_data Line 2:  california est généralement calme en mars , et il est généralement chaud en juin .\n"
     ]
    }
   ],
   "source": [
    "# load data with given path\n",
    "def load_data(path):\n",
    "\n",
    "    input_file = os.path.join(path)\n",
    "    with open(input_file, \"r\") as f:\n",
    "        data = f.read()\n",
    "\n",
    "    return data.split('\\n')\n",
    "\n",
    "# load the English data\n",
    "english_sentences = load_data('data/en_data')\n",
    "\n",
    "# load the French data\n",
    "french_sentences = load_data('data/fr_data')\n",
    "\n",
    "# print the first two lines from each file\n",
    "for sample_i in range(2):\n",
    "    print('en_data Line {}:  {}'.format(sample_i + 1, english_sentences[sample_i]))\n",
    "    print('fr_data Line {}:  {}'.format(sample_i + 1, french_sentences[sample_i]))"
   ]
  },
  {
   "cell_type": "markdown",
   "metadata": {},
   "source": [
    "From example sentences, it is clear that the data has been preprocessed a bit. For example, all texts have been converted to lowercase. However, further data preprocessing is needed before being used for training purposes.\n"
   ]
  },
  {
   "cell_type": "markdown",
   "metadata": {},
   "source": [
    "# 3. Data Pre-processing\n"
   ]
  },
  {
   "cell_type": "code",
   "execution_count": 9,
   "metadata": {
    "scrolled": true
   },
   "outputs": [
    {
     "name": "stdout",
     "output_type": "stream",
     "text": [
      "The English dataset has 1823235 English words.\n",
      "227 unique English words.\n",
      "The top 10 most common words are:\n",
      "\"is\" \",\" \".\" \"in\" \"it\" \"during\" \"the\" \"but\" \"and\" \"sometimes\"\n",
      "\n",
      "The French dataset has 1961279 French words.\n",
      "355 unique French words.\n",
      "The top 10 most common words are:\n",
      "\"est\" \".\" \",\" \"en\" \"il\" \"les\" \"mais\" \"et\" \"la\" \"parfois\"\n"
     ]
    }
   ],
   "source": [
    "# show the stats of the datasets\n",
    "english_words_counter = collections.Counter([word for sentence in english_sentences for word in sentence.split()])\n",
    "french_words_counter = collections.Counter([word for sentence in french_sentences for word in sentence.split()])\n",
    "\n",
    "print('The English dataset has {} English words.'.format(len([word for sentence in english_sentences for word in sentence.split()])))\n",
    "print('{} unique English words.'.format(len(english_words_counter)))\n",
    "print('The top 10 most common words are:')\n",
    "print('\"' + '\" \"'.join(list(zip(*english_words_counter.most_common(10)))[0]) + '\"')\n",
    "print()\n",
    "print('The French dataset has {} French words.'.format(len([word for sentence in french_sentences for word in sentence.split()])))\n",
    "print('{} unique French words.'.format(len(french_words_counter)))\n",
    "print('The top 10 most common words are:')\n",
    "print('\"' + '\" \"'.join(list(zip(*french_words_counter.most_common(10)))[0]) + '\"')"
   ]
  },
  {
   "cell_type": "markdown",
   "metadata": {},
   "source": [
    "### Tokenization"
   ]
  },
  {
   "cell_type": "code",
   "execution_count": 10,
   "metadata": {},
   "outputs": [
    {
     "name": "stdout",
     "output_type": "stream",
     "text": [
      "{'a': 1, 'good': 2, 'not': 3, 'is': 4, 'i': 5, 'do': 6, 'want': 7, 'to': 8, 'go': 9, 'it': 10, 'day': 11, 'cooking': 12, 'only': 13, 'hobby': 14, 'but': 15, 'also': 16, 'habit': 17}\n",
      "\n",
      "Sequence 1 in x\n",
      "  Input:  I do not want to go .\n",
      "  Output: [5, 6, 3, 7, 8, 9]\n",
      "Sequence 2 in x\n",
      "  Input:  It is a good day .\n",
      "  Output: [10, 4, 1, 2, 11]\n",
      "Sequence 3 in x\n",
      "  Input:  Cooking is not only a good hobby, but also a good habit .\n",
      "  Output: [12, 4, 3, 13, 1, 2, 14, 15, 16, 1, 2, 17]\n"
     ]
    }
   ],
   "source": [
    "# tokenize x, from input of a list of sentences/strings to be tokenized\n",
    "def tokenize(x):\n",
    "    x_tk = Tokenizer()\n",
    "    # Tokenize x\n",
    "    x_tk.fit_on_texts(x)\n",
    "    # return a tuple of tokenized x data and tokenizer used to tokenize \n",
    "    return x_tk.texts_to_sequences(x), x_tk\n",
    "\n",
    "# examples to be tokenized\n",
    "text_sentences = [\n",
    "    'I do not want to go .',\n",
    "    'It is a good day .',\n",
    "    'Cooking is not only a good hobby, but also a good habit .']\n",
    "\n",
    "# tokenize example output and print the results\n",
    "text_tokenized, text_tokenizer = tokenize(text_sentences)\n",
    "print(text_tokenizer.word_index)\n",
    "print()\n",
    "for sample_i, (sent, token_sent) in enumerate(zip(text_sentences, text_tokenized)):\n",
    "    print('Sequence {} in x'.format(sample_i + 1))\n",
    "    print('  Input:  {}'.format(sent))\n",
    "    print('  Output: {}'.format(token_sent))"
   ]
  },
  {
   "cell_type": "markdown",
   "metadata": {},
   "source": [
    "### Padding"
   ]
  },
  {
   "cell_type": "code",
   "execution_count": 11,
   "metadata": {},
   "outputs": [
    {
     "name": "stdout",
     "output_type": "stream",
     "text": [
      "Sequence 1 in x\n",
      "  Input:  [5 6 3 7 8 9]\n",
      "  Output: [5 6 3 7 8 9 0 0 0 0 0 0]\n",
      "Sequence 2 in x\n",
      "  Input:  [10  4  1  2 11]\n",
      "  Output: [10  4  1  2 11  0  0  0  0  0  0  0]\n",
      "Sequence 3 in x\n",
      "  Input:  [12  4  3 13  1  2 14 15 16  1  2 17]\n",
      "  Output: [12  4  3 13  1  2 14 15 16  1  2 17]\n"
     ]
    }
   ],
   "source": [
    "# pad input x\n",
    "def pad(x, length=None):\n",
    "    # check the length to pad the sequence to.  If None, use length of longest sequence in x.\n",
    "    if length is None:\n",
    "        length = len(max(x, key=len))\n",
    "    # return padded numpy array of sequences\n",
    "    return pad_sequences(x, maxlen=length, padding='post')\n",
    "\n",
    "\n",
    "# pad Tokenized output and print the resultss\n",
    "test_pad = pad(text_tokenized)\n",
    "for sample_i, (token_sent, pad_sent) in enumerate(zip(text_tokenized, test_pad)):\n",
    "    print('Sequence {} in x'.format(sample_i + 1))\n",
    "    print('  Input:  {}'.format(np.array(token_sent)))\n",
    "    print('  Output: {}'.format(pad_sent))"
   ]
  },
  {
   "cell_type": "markdown",
   "metadata": {},
   "source": [
    "### Preprocess Pipeline"
   ]
  },
  {
   "cell_type": "code",
   "execution_count": 12,
   "metadata": {},
   "outputs": [
    {
     "name": "stdout",
     "output_type": "stream",
     "text": [
      "The execution of data preprocessed is finished \n",
      "The max English sentence length is : 15\n",
      "The max  French sentence length is : 21\n",
      "The Total English vocabulary size: 199\n",
      "The Total French vocabulary size: 344\n"
     ]
    }
   ],
   "source": [
    "# execute the preprocess pipepline\n",
    "def preprocess(x, y):\n",
    "\n",
    "    preprocess_x, x_tk = tokenize(x)\n",
    "    preprocess_y, y_tk = tokenize(y)\n",
    "\n",
    "    preprocess_x = pad(preprocess_x)\n",
    "    preprocess_y = pad(preprocess_y)\n",
    "\n",
    "    preprocess_y = preprocess_y.reshape(*preprocess_y.shape, 1)\n",
    "\n",
    "    # return the tuple of (Preprocessed x, Preprocessed y, x tokenizer, y tokenizer)\n",
    "    return preprocess_x, preprocess_y, x_tk, y_tk\n",
    "\n",
    "preproc_english_sentences, preproc_french_sentences, english_tokenizer, french_tokenizer =\\\n",
    "    preprocess(english_sentences, french_sentences)\n",
    "    \n",
    "max_english_sequence_length = preproc_english_sentences.shape[1]\n",
    "max_french_sequence_length = preproc_french_sentences.shape[1]\n",
    "english_vocab_size = len(english_tokenizer.word_index)\n",
    "french_vocab_size = len(french_tokenizer.word_index)\n",
    "\n",
    "# print the results after the execution of the preprocess pipepline\n",
    "print('The execution of data preprocessed is finished ')\n",
    "print(\"The max English sentence length is :\", max_english_sequence_length)\n",
    "print(\"The max  French sentence length is :\", max_french_sequence_length)\n",
    "print(\"The total English vocabulary size:\", english_vocab_size)\n",
    "print(\"The total French vocabulary size:\", french_vocab_size)"
   ]
  },
  {
   "cell_type": "markdown",
   "metadata": {},
   "source": [
    "# 4. Model Training\n",
    "\n",
    "In order to use the best possbile model architecture for the predictive results, the following neural network architectures will be tested:\n",
    "- Model 1-Simple RNN\n",
    "- Model 2-RNN with Embedding\n",
    "- Model 3-Bidirectional RNN with Embedding"
   ]
  },
  {
   "cell_type": "code",
   "execution_count": 13,
   "metadata": {},
   "outputs": [],
   "source": [
    "# transform input logits into texts\n",
    "def logits_to_text(logits, tokenizer):\n",
    "    # turn logits from a neural network into texts using the tokenizer\n",
    "    index_to_words = {id: word for word, id in tokenizer.word_index.items()}\n",
    "    index_to_words[0] = '<PAD>'\n",
    "    # return String that represents the text of the logits\n",
    "    return ' '.join([index_to_words[prediction] for prediction in np.argmax(logits, 1)])\n"
   ]
  },
  {
   "cell_type": "markdown",
   "metadata": {},
   "source": [
    "### Model 1: Simple RNN "
   ]
  },
  {
   "cell_type": "code",
   "execution_count": 14,
   "metadata": {
    "scrolled": true
   },
   "outputs": [
    {
     "name": "stdout",
     "output_type": "stream",
     "text": [
      "WARNING:tensorflow:From /home/ubuntu/anaconda3/envs/tensorflow_p36/lib/python3.6/site-packages/keras/backend/tensorflow_backend.py:66: The name tf.get_default_graph is deprecated. Please use tf.compat.v1.get_default_graph instead.\n",
      "\n",
      "WARNING:tensorflow:From /home/ubuntu/anaconda3/envs/tensorflow_p36/lib/python3.6/site-packages/keras/backend/tensorflow_backend.py:541: The name tf.placeholder is deprecated. Please use tf.compat.v1.placeholder instead.\n",
      "\n",
      "WARNING:tensorflow:From /home/ubuntu/anaconda3/envs/tensorflow_p36/lib/python3.6/site-packages/keras/backend/tensorflow_backend.py:4432: The name tf.random_uniform is deprecated. Please use tf.random.uniform instead.\n",
      "\n",
      "WARNING:tensorflow:From /home/ubuntu/anaconda3/envs/tensorflow_p36/lib/python3.6/site-packages/keras/optimizers.py:793: The name tf.train.Optimizer is deprecated. Please use tf.compat.v1.train.Optimizer instead.\n",
      "\n",
      "WARNING:tensorflow:From /home/ubuntu/anaconda3/envs/tensorflow_p36/lib/python3.6/site-packages/keras/backend/tensorflow_backend.py:3622: The name tf.log is deprecated. Please use tf.math.log instead.\n",
      "\n",
      "Model: \"model_1\"\n",
      "_________________________________________________________________\n",
      "Layer (type)                 Output Shape              Param #   \n",
      "=================================================================\n",
      "input_1 (InputLayer)         (None, 21, 1)             0         \n",
      "_________________________________________________________________\n",
      "gru_1 (GRU)                  (None, 21, 256)           198144    \n",
      "_________________________________________________________________\n",
      "time_distributed_1 (TimeDist (None, 21, 344)           88408     \n",
      "=================================================================\n",
      "Total params: 286,552\n",
      "Trainable params: 286,552\n",
      "Non-trainable params: 0\n",
      "_________________________________________________________________\n",
      "\n",
      "\n",
      "WARNING:tensorflow:From /home/ubuntu/anaconda3/envs/tensorflow_p36/lib/python3.6/site-packages/tensorflow_core/python/ops/math_grad.py:1424: where (from tensorflow.python.ops.array_ops) is deprecated and will be removed in a future version.\n",
      "Instructions for updating:\n",
      "Use tf.where in 2.0, which has the same broadcast rule as np.where\n",
      "WARNING:tensorflow:From /home/ubuntu/anaconda3/envs/tensorflow_p36/lib/python3.6/site-packages/keras/backend/tensorflow_backend.py:1033: The name tf.assign_add is deprecated. Please use tf.compat.v1.assign_add instead.\n",
      "\n",
      "WARNING:tensorflow:From /home/ubuntu/anaconda3/envs/tensorflow_p36/lib/python3.6/site-packages/keras/backend/tensorflow_backend.py:1020: The name tf.assign is deprecated. Please use tf.compat.v1.assign instead.\n",
      "\n",
      "WARNING:tensorflow:From /home/ubuntu/anaconda3/envs/tensorflow_p36/lib/python3.6/site-packages/keras/backend/tensorflow_backend.py:3005: The name tf.Session is deprecated. Please use tf.compat.v1.Session instead.\n",
      "\n",
      "Train on 110288 samples, validate on 27572 samples\n",
      "Epoch 1/10\n",
      "WARNING:tensorflow:From /home/ubuntu/anaconda3/envs/tensorflow_p36/lib/python3.6/site-packages/keras/backend/tensorflow_backend.py:190: The name tf.get_default_session is deprecated. Please use tf.compat.v1.get_default_session instead.\n",
      "\n",
      "WARNING:tensorflow:From /home/ubuntu/anaconda3/envs/tensorflow_p36/lib/python3.6/site-packages/keras/backend/tensorflow_backend.py:197: The name tf.ConfigProto is deprecated. Please use tf.compat.v1.ConfigProto instead.\n",
      "\n",
      "WARNING:tensorflow:From /home/ubuntu/anaconda3/envs/tensorflow_p36/lib/python3.6/site-packages/keras/backend/tensorflow_backend.py:207: The name tf.global_variables is deprecated. Please use tf.compat.v1.global_variables instead.\n",
      "\n",
      "WARNING:tensorflow:From /home/ubuntu/anaconda3/envs/tensorflow_p36/lib/python3.6/site-packages/keras/backend/tensorflow_backend.py:216: The name tf.is_variable_initialized is deprecated. Please use tf.compat.v1.is_variable_initialized instead.\n",
      "\n",
      "WARNING:tensorflow:From /home/ubuntu/anaconda3/envs/tensorflow_p36/lib/python3.6/site-packages/keras/backend/tensorflow_backend.py:223: The name tf.variables_initializer is deprecated. Please use tf.compat.v1.variables_initializer instead.\n",
      "\n",
      "110288/110288 [==============================] - 19s 173us/step - loss: 1.7890 - acc: 0.5699 - val_loss: nan - val_acc: 0.6328\n",
      "Epoch 2/10\n",
      "110288/110288 [==============================] - 17s 157us/step - loss: 1.2080 - acc: 0.6502 - val_loss: nan - val_acc: 0.6628\n",
      "Epoch 3/10\n",
      "110288/110288 [==============================] - 17s 157us/step - loss: 1.0703 - acc: 0.6703 - val_loss: nan - val_acc: 0.6827\n",
      "Epoch 4/10\n",
      "110288/110288 [==============================] - 17s 157us/step - loss: 0.9909 - acc: 0.6802 - val_loss: nan - val_acc: 0.6834\n",
      "Epoch 5/10\n",
      "110288/110288 [==============================] - 17s 157us/step - loss: 0.9280 - acc: 0.6923 - val_loss: nan - val_acc: 0.6966\n",
      "Epoch 6/10\n",
      "110288/110288 [==============================] - 17s 157us/step - loss: 0.8755 - acc: 0.7066 - val_loss: nan - val_acc: 0.7149\n",
      "Epoch 7/10\n",
      "110288/110288 [==============================] - 17s 157us/step - loss: 0.8193 - acc: 0.7292 - val_loss: nan - val_acc: 0.7430\n",
      "Epoch 8/10\n",
      "110288/110288 [==============================] - 17s 157us/step - loss: 0.7605 - acc: 0.7574 - val_loss: nan - val_acc: 0.7695\n",
      "Epoch 9/10\n",
      "110288/110288 [==============================] - 17s 157us/step - loss: 0.7238 - acc: 0.7717 - val_loss: nan - val_acc: 0.7796\n",
      "Epoch 10/10\n",
      "110288/110288 [==============================] - 17s 157us/step - loss: 0.6944 - acc: 0.7821 - val_loss: nan - val_acc: 0.7880\n"
     ]
    },
    {
     "data": {
      "image/png": "[encoded data removed]",
      "text/plain": [
       "<Figure size 432x288 with 1 Axes>"
      ]
     },
     "metadata": {},
     "output_type": "display_data"
    },
    {
     "name": "stdout",
     "output_type": "stream",
     "text": [
      "Make a prediction of translation using the model from French to English:\n",
      "les états unis est généralement pluvieux en juillet et il est généralement agréable en novembre <PAD> <PAD> <PAD> <PAD> <PAD> <PAD>\n"
     ]
    }
   ],
   "source": [
    "# build and train a basic RNN on x and y\n",
    "def simple_model(input_shape, output_sequence_length, english_vocab_size, french_vocab_size):\n",
    "\n",
    "    # build the layers and set up parameters to prepare the model to be trained\n",
    "    learning_rate = 1e-3\n",
    "    \n",
    "    input_seq = Input(input_shape[1:])\n",
    "    rnn = GRU(256, return_sequences=True)(input_seq)\n",
    "    logits = TimeDistributed(Dense(french_vocab_size, activation='softmax'))(rnn)\n",
    "    \n",
    "    model = Model(inputs=input_seq, outputs=logits)\n",
    "    model.compile(loss=sparse_categorical_crossentropy,\n",
    "                  optimizer=Adam(learning_rate),\n",
    "                  metrics=['accuracy'])\n",
    "    return model\n",
    "\n",
    "# plot the history for accuracy for the training process\n",
    "def pltrain(history):\n",
    "    \n",
    "    plt.plot(history.history['acc'])\n",
    "    plt.plot(history.history['val_acc'])\n",
    "    plt.title('Trained Model Accuracy')\n",
    "    plt.ylabel('Accuracy')\n",
    "    plt.xlabel('Epoch')\n",
    "    plt.legend(['Train', 'Test'], loc='upper left')\n",
    "    plt.show()\n",
    "\n",
    "# reshaping the input to work with a basic RNN\n",
    "tmp_x = pad(preproc_english_sentences, max_french_sequence_length)\n",
    "tmp_x = tmp_x.reshape((-1, preproc_french_sentences.shape[-2], 1))\n",
    "\n",
    "# setup the model\n",
    "simple_rnn_model = simple_model(\n",
    "    tmp_x.shape,\n",
    "    max_french_sequence_length,\n",
    "    english_vocab_size,\n",
    "    french_vocab_size)\n",
    "\n",
    "# print a summary of the model\n",
    "simple_rnn_model.summary()\n",
    "print('\\n')\n",
    "\n",
    "# show the graph of the model\n",
    "plot_model(simple_rnn_model, to_file='model1.png', show_shapes=True)\n",
    "\n",
    "# model training\n",
    "history=simple_rnn_model.fit(tmp_x, preproc_french_sentences, batch_size=256, epochs=10, validation_split=0.2)\n",
    "\n",
    "# plot the history for accuracy for the training process\n",
    "pltrain(history)\n",
    "\n",
    "# Print a prediction\n",
    "print(\"Make a prediction of translation using the model from French to English:\")\n",
    "print(logits_to_text(simple_rnn_model.predict(tmp_x[:1])[0], french_tokenizer))"
   ]
  },
  {
   "cell_type": "markdown",
   "metadata": {},
   "source": [
    "### Model 2: RNN with Embedding"
   ]
  },
  {
   "cell_type": "code",
   "execution_count": 18,
   "metadata": {},
   "outputs": [
    {
     "name": "stdout",
     "output_type": "stream",
     "text": [
      "Model: \"model_3\"\n",
      "_________________________________________________________________\n",
      "Layer (type)                 Output Shape              Param #   \n",
      "=================================================================\n",
      "input_3 (InputLayer)         (None, 21)                0         \n",
      "_________________________________________________________________\n",
      "embedding_2 (Embedding)      (None, 21, 256)           50944     \n",
      "_________________________________________________________________\n",
      "gru_3 (GRU)                  (None, 21, 256)           393984    \n",
      "_________________________________________________________________\n",
      "time_distributed_3 (TimeDist (None, 21, 344)           88408     \n",
      "=================================================================\n",
      "Total params: 533,336\n",
      "Trainable params: 533,336\n",
      "Non-trainable params: 0\n",
      "_________________________________________________________________\n",
      "\n",
      "\n",
      "Train on 110288 samples, validate on 27572 samples\n",
      "Epoch 1/10\n",
      "110288/110288 [==============================] - 22s 201us/step - loss: 1.5712 - acc: 0.6630 - val_loss: nan - val_acc: 0.8247\n",
      "Epoch 2/10\n",
      "110288/110288 [==============================] - 21s 191us/step - loss: 0.4541 - acc: 0.8636 - val_loss: nan - val_acc: 0.8898\n",
      "Epoch 3/10\n",
      "110288/110288 [==============================] - 21s 191us/step - loss: 0.3103 - acc: 0.9010 - val_loss: nan - val_acc: 0.9091\n",
      "Epoch 4/10\n",
      "110288/110288 [==============================] - 21s 191us/step - loss: 0.2567 - acc: 0.9159 - val_loss: nan - val_acc: 0.9196\n",
      "Epoch 5/10\n",
      "110288/110288 [==============================] - 21s 191us/step - loss: 0.2273 - acc: 0.9238 - val_loss: nan - val_acc: 0.9264\n",
      "Epoch 6/10\n",
      "110288/110288 [==============================] - 21s 191us/step - loss: 0.2094 - acc: 0.9286 - val_loss: nan - val_acc: 0.9294\n",
      "Epoch 7/10\n",
      "110288/110288 [==============================] - 21s 191us/step - loss: 0.1984 - acc: 0.9314 - val_loss: nan - val_acc: 0.9307\n",
      "Epoch 8/10\n",
      "110288/110288 [==============================] - 21s 191us/step - loss: 0.1901 - acc: 0.9336 - val_loss: nan - val_acc: 0.9332\n",
      "Epoch 9/10\n",
      "110288/110288 [==============================] - 21s 191us/step - loss: 0.1821 - acc: 0.9356 - val_loss: nan - val_acc: 0.9347\n",
      "Epoch 10/10\n",
      "110288/110288 [==============================] - 21s 191us/step - loss: 0.1785 - acc: 0.9364 - val_loss: nan - val_acc: 0.9350\n"
     ]
    },
    {
     "data": {
      "image/png": "[encoded data removed]",
      "text/plain": [
       "<Figure size 432x288 with 1 Axes>"
      ]
     },
     "metadata": {},
     "output_type": "display_data"
    },
    {
     "name": "stdout",
     "output_type": "stream",
     "text": [
      "Make a prediction of translation using the model from French to English:\n",
      "les états unis est généralement froid en juillet et il est généralement en l' <PAD> <PAD> <PAD> <PAD> <PAD> <PAD> <PAD>\n"
     ]
    }
   ],
   "source": [
    "# build and train a RNN model using word embedding on x and y\n",
    "def embed_model(input_shape, output_sequence_length, english_vocab_size, french_vocab_size):\n",
    "    # Build the layers and set up parameters to prepare the model to be trained\n",
    "    learning_rate = 1e-3\n",
    "    \n",
    "    input_seq = Input(input_shape[1:])\n",
    "    embed_layer = Embedding(english_vocab_size, 256, input_length=output_sequence_length)(input_seq)\n",
    "    rnn = GRU(256, return_sequences=True)(embed_layer)\n",
    "\n",
    "    logits = TimeDistributed(Dense(french_vocab_size, activation='softmax'))(rnn)\n",
    "\n",
    "    model = Model(inputs=input_seq, outputs=logits)\n",
    "    model.compile(loss=sparse_categorical_crossentropy,\n",
    "                  optimizer=Adam(learning_rate), metrics=['accuracy'])\n",
    "    return model\n",
    "\n",
    "\n",
    "# reshape the input\n",
    "tmp_x = pad(preproc_english_sentences, max_french_sequence_length)\n",
    "\n",
    "# setup the model\n",
    "embed_rnn_model = embed_model(\n",
    "    tmp_x.shape,\n",
    "    max_french_sequence_length,\n",
    "    english_vocab_size,\n",
    "    french_vocab_size)\n",
    "\n",
    "# print a summary of the model\n",
    "embed_rnn_model.summary()\n",
    "print('\\n')\n",
    "\n",
    "# show the graph of the model\n",
    "plot_model(embed_rnn_model, to_file='model2.png', show_shapes=True)\n",
    "\n",
    "# model training\n",
    "history = embed_rnn_model.fit(tmp_x, preproc_french_sentences, batch_size=256, epochs=10, validation_split=0.2)\n",
    "\n",
    "# plot the history for accuracy for the training process\n",
    "pltrain(history)\n",
    "\n",
    "# Print a prediction\n",
    "print(\"Make a prediction of translation using the model from French to English:\")\n",
    "print(logits_to_text(embed_rnn_model.predict(tmp_x[:1])[0], french_tokenizer))"
   ]
  },
  {
   "cell_type": "markdown",
   "metadata": {},
   "source": [
    "### Model 3: Bidirectional RNN with Embedding"
   ]
  },
  {
   "cell_type": "code",
   "execution_count": 20,
   "metadata": {},
   "outputs": [
    {
     "name": "stdout",
     "output_type": "stream",
     "text": [
      "Model: \"model_5\"\n",
      "_________________________________________________________________\n",
      "Layer (type)                 Output Shape              Param #   \n",
      "=================================================================\n",
      "input_5 (InputLayer)         (None, 21)                0         \n",
      "_________________________________________________________________\n",
      "embedding_3 (Embedding)      (None, 21, 256)           50944     \n",
      "_________________________________________________________________\n",
      "bidirectional_2 (Bidirection (None, 21, 512)           787968    \n",
      "_________________________________________________________________\n",
      "time_distributed_5 (TimeDist (None, 21, 344)           176472    \n",
      "=================================================================\n",
      "Total params: 1,015,384\n",
      "Trainable params: 1,015,384\n",
      "Non-trainable params: 0\n",
      "_________________________________________________________________\n",
      "\n",
      "\n",
      "Train on 110288 samples, validate on 27572 samples\n",
      "Epoch 1/10\n",
      "110288/110288 [==============================] - 40s 364us/step - loss: 1.3013 - acc: 0.7083 - val_loss: nan - val_acc: 0.8547\n",
      "Epoch 2/10\n",
      "110288/110288 [==============================] - 38s 345us/step - loss: 0.3553 - acc: 0.8928 - val_loss: nan - val_acc: 0.9211\n",
      "Epoch 3/10\n",
      "110288/110288 [==============================] - 38s 346us/step - loss: 0.2160 - acc: 0.9341 - val_loss: nan - val_acc: 0.9462\n",
      "Epoch 4/10\n",
      "110288/110288 [==============================] - 38s 346us/step - loss: 0.1540 - acc: 0.9530 - val_loss: nan - val_acc: 0.9585\n",
      "Epoch 5/10\n",
      "110288/110288 [==============================] - 38s 346us/step - loss: 0.1190 - acc: 0.9637 - val_loss: nan - val_acc: 0.9646\n",
      "Epoch 6/10\n",
      "110288/110288 [==============================] - 38s 346us/step - loss: 0.0985 - acc: 0.9696 - val_loss: nan - val_acc: 0.9692\n",
      "Epoch 7/10\n",
      "110288/110288 [==============================] - 38s 345us/step - loss: 0.0840 - acc: 0.9741 - val_loss: nan - val_acc: 0.9734\n",
      "Epoch 8/10\n",
      "110288/110288 [==============================] - 38s 345us/step - loss: 0.0747 - acc: 0.9768 - val_loss: nan - val_acc: 0.9732\n",
      "Epoch 9/10\n",
      "110288/110288 [==============================] - 38s 345us/step - loss: 0.0670 - acc: 0.9791 - val_loss: nan - val_acc: 0.9759\n",
      "Epoch 10/10\n",
      "110288/110288 [==============================] - 38s 345us/step - loss: 0.0607 - acc: 0.9810 - val_loss: nan - val_acc: 0.9776\n"
     ]
    },
    {
     "data": {
      "image/png": "[encoded data removed]",
      "text/plain": [
       "<Figure size 432x288 with 1 Axes>"
      ]
     },
     "metadata": {},
     "output_type": "display_data"
    },
    {
     "name": "stdout",
     "output_type": "stream",
     "text": [
      "Make a prediction of translation using the model from French to English:\n",
      "les états unis est généralement froid en juillet et il gèle habituellement en novembre <PAD> <PAD> <PAD> <PAD> <PAD> <PAD> <PAD>\n"
     ]
    }
   ],
   "source": [
    "# build a model that incorporates embedding, and bidirectional RNN on x and y\n",
    "def Bd_Emb_model(input_shape, output_sequence_length, english_vocab_size, french_vocab_size):\n",
    "    \n",
    "    # build the layers and set up parameters to prepare the model to be trained\n",
    "    learning_rate=1e-3\n",
    "\n",
    "    input_seq = Input(input_shape[1:])\n",
    "    emb = Embedding(english_vocab_size, 256, input_length=output_sequence_length)(input_seq)\n",
    "    bdrnn = Bidirectional(GRU(256, return_sequences=True))(emb)\n",
    "    logits = TimeDistributed(Dense(french_vocab_size, activation='softmax'))(bdrnn)\n",
    "\n",
    "    model = Model(inputs=input_seq, outputs=logits)\n",
    "    model.compile(loss=sparse_categorical_crossentropy,\n",
    "                  optimizer=Adam(learning_rate),\n",
    "                  metrics=['accuracy'])\n",
    "    \n",
    "    return model\n",
    "\n",
    "# pad the input\n",
    "tmp_x = pad(preproc_english_sentences, max_french_sequence_length)\n",
    "\n",
    "# setup the model\n",
    "emb_bdrnn = Bd_Emb_model(\n",
    "    tmp_x.shape,\n",
    "    max_french_sequence_length,\n",
    "    english_vocab_size,\n",
    "    french_vocab_size)\n",
    "\n",
    "# print a summary of the model\n",
    "emb_bdrnn.summary()\n",
    "print('\\n')\n",
    "\n",
    "# show the graph of the model\n",
    "plot_model(emb_bdrnn, to_file='model4.png', show_shapes=True)\n",
    "\n",
    "# model training\n",
    "history = emb_bdrnn.fit(tmp_x, preproc_french_sentences, batch_size=256, epochs=10, validation_split=0.2)\n",
    "\n",
    "# plot the history for accuracy for the training process\n",
    "pltrain(history)\n",
    "\n",
    "# print a prediction\n",
    "print(\"Make a prediction of translation using the model from French to English:\")\n",
    "print(logits_to_text(emb_bdrnn.predict(tmp_x[:1])[0], french_tokenizer))"
   ]
  },
  {
   "cell_type": "markdown",
   "metadata": {},
   "source": [
    "# 5. Finalizing Trained Model, Saving and Prediction"
   ]
  },
  {
   "cell_type": "markdown",
   "metadata": {},
   "source": [
    "Comparing all the above trained models, it is obvious that the model of Bidirectional RNN with Embedding performs the best with about 98% accuracy rate after 10 epochs of trainings. So this model is chosen to be the final model for this task of machine translation from English to French."
   ]
  },
  {
   "cell_type": "markdown",
   "metadata": {},
   "source": [
    "## Training the final model again with 30 epochs and save it"
   ]
  },
  {
   "cell_type": "code",
   "execution_count": 21,
   "metadata": {
    "scrolled": false
   },
   "outputs": [
    {
     "name": "stdout",
     "output_type": "stream",
     "text": [
      "Model: \"model_6\"\n",
      "_________________________________________________________________\n",
      "Layer (type)                 Output Shape              Param #   \n",
      "=================================================================\n",
      "input_6 (InputLayer)         (None, 21)                0         \n",
      "_________________________________________________________________\n",
      "embedding_4 (Embedding)      (None, 21, 256)           50944     \n",
      "_________________________________________________________________\n",
      "bidirectional_3 (Bidirection (None, 21, 512)           787968    \n",
      "_________________________________________________________________\n",
      "time_distributed_6 (TimeDist (None, 21, 344)           176472    \n",
      "=================================================================\n",
      "Total params: 1,015,384\n",
      "Trainable params: 1,015,384\n",
      "Non-trainable params: 0\n",
      "_________________________________________________________________\n",
      "\n",
      "\n",
      "Train on 110288 samples, validate on 27572 samples\n",
      "Epoch 1/30\n",
      "110288/110288 [==============================] - 40s 367us/step - loss: 1.3060 - acc: 0.7063 - val_loss: nan - val_acc: 0.8510\n",
      "Epoch 2/30\n",
      "110288/110288 [==============================] - 38s 345us/step - loss: 0.3531 - acc: 0.8934 - val_loss: nan - val_acc: 0.9232\n",
      "Epoch 3/30\n",
      "110288/110288 [==============================] - 38s 345us/step - loss: 0.2080 - acc: 0.9369 - val_loss: nan - val_acc: 0.9458\n",
      "Epoch 4/30\n",
      "110288/110288 [==============================] - 38s 345us/step - loss: 0.1471 - acc: 0.9555 - val_loss: nan - val_acc: 0.9587\n",
      "Epoch 5/30\n",
      "110288/110288 [==============================] - 38s 344us/step - loss: 0.1146 - acc: 0.9650 - val_loss: nan - val_acc: 0.9670\n",
      "Epoch 6/30\n",
      "110288/110288 [==============================] - 38s 345us/step - loss: 0.0953 - acc: 0.9708 - val_loss: nan - val_acc: 0.9714\n",
      "Epoch 7/30\n",
      "110288/110288 [==============================] - 38s 345us/step - loss: 0.0809 - acc: 0.9751 - val_loss: nan - val_acc: 0.9722\n",
      "Epoch 8/30\n",
      "110288/110288 [==============================] - 38s 345us/step - loss: 0.0710 - acc: 0.9780 - val_loss: nan - val_acc: 0.9744\n",
      "Epoch 9/30\n",
      "110288/110288 [==============================] - 38s 345us/step - loss: 0.0650 - acc: 0.9796 - val_loss: nan - val_acc: 0.9767\n",
      "Epoch 10/30\n",
      "110288/110288 [==============================] - 38s 345us/step - loss: 0.0604 - acc: 0.9808 - val_loss: nan - val_acc: 0.9781\n",
      "Epoch 11/30\n",
      "110288/110288 [==============================] - 38s 345us/step - loss: 0.0544 - acc: 0.9828 - val_loss: nan - val_acc: 0.9791\n",
      "Epoch 12/30\n",
      "110288/110288 [==============================] - 38s 345us/step - loss: 0.0500 - acc: 0.9842 - val_loss: nan - val_acc: 0.9798\n",
      "Epoch 13/30\n",
      "110288/110288 [==============================] - 38s 344us/step - loss: 0.0468 - acc: 0.9851 - val_loss: nan - val_acc: 0.9796\n",
      "Epoch 14/30\n",
      "110288/110288 [==============================] - 38s 345us/step - loss: 0.0434 - acc: 0.9862 - val_loss: nan - val_acc: 0.9798\n",
      "Epoch 15/30\n",
      "110288/110288 [==============================] - 38s 345us/step - loss: 0.0416 - acc: 0.9867 - val_loss: nan - val_acc: 0.9807\n",
      "Epoch 16/30\n",
      "110288/110288 [==============================] - 38s 344us/step - loss: 0.0389 - acc: 0.9875 - val_loss: nan - val_acc: 0.9808\n",
      "Epoch 17/30\n",
      "110288/110288 [==============================] - 38s 344us/step - loss: 0.0366 - acc: 0.9883 - val_loss: nan - val_acc: 0.9818\n",
      "Epoch 18/30\n",
      "110288/110288 [==============================] - 38s 345us/step - loss: 0.0342 - acc: 0.9890 - val_loss: nan - val_acc: 0.9827\n",
      "Epoch 19/30\n",
      "110288/110288 [==============================] - 38s 345us/step - loss: 0.0317 - acc: 0.9898 - val_loss: nan - val_acc: 0.9812\n",
      "Epoch 20/30\n",
      "110288/110288 [==============================] - 38s 345us/step - loss: 0.0341 - acc: 0.9892 - val_loss: nan - val_acc: 0.9824\n",
      "Epoch 21/30\n",
      "110288/110288 [==============================] - 38s 346us/step - loss: 0.0284 - acc: 0.9909 - val_loss: nan - val_acc: 0.9829\n",
      "Epoch 22/30\n",
      "110288/110288 [==============================] - 38s 346us/step - loss: 0.0265 - acc: 0.9915 - val_loss: nan - val_acc: 0.9826\n",
      "Epoch 23/30\n",
      "110288/110288 [==============================] - 38s 345us/step - loss: 0.0253 - acc: 0.9919 - val_loss: nan - val_acc: 0.9830\n",
      "Epoch 24/30\n",
      "110288/110288 [==============================] - 38s 345us/step - loss: 0.0254 - acc: 0.9919 - val_loss: nan - val_acc: 0.9812\n",
      "Epoch 25/30\n",
      "110288/110288 [==============================] - 38s 345us/step - loss: 0.0270 - acc: 0.9915 - val_loss: nan - val_acc: 0.9831\n",
      "Epoch 26/30\n",
      "110288/110288 [==============================] - 38s 345us/step - loss: 0.0228 - acc: 0.9929 - val_loss: nan - val_acc: 0.9827\n",
      "Epoch 27/30\n",
      "110288/110288 [==============================] - 38s 345us/step - loss: 0.0227 - acc: 0.9930 - val_loss: nan - val_acc: 0.9832\n",
      "Epoch 28/30\n",
      "110288/110288 [==============================] - 38s 346us/step - loss: 0.0203 - acc: 0.9936 - val_loss: nan - val_acc: 0.9831\n",
      "Epoch 29/30\n",
      "110288/110288 [==============================] - 38s 345us/step - loss: 0.0194 - acc: 0.9939 - val_loss: nan - val_acc: 0.9825\n",
      "Epoch 30/30\n",
      "110288/110288 [==============================] - 38s 345us/step - loss: 0.0188 - acc: 0.9942 - val_loss: nan - val_acc: 0.9823\n"
     ]
    },
    {
     "data": {
      "image/png": "[encoded data removed]",
      "text/plain": [
       "<Figure size 432x288 with 1 Axes>"
      ]
     },
     "metadata": {},
     "output_type": "display_data"
    }
   ],
   "source": [
    "# prepare for training\n",
    "\n",
    "x = preproc_english_sentences\n",
    "y = preproc_french_sentences\n",
    "x_tk = english_tokenizer\n",
    "y_tk = french_tokenizer\n",
    "\n",
    "max_english_sequence_length = x.shape[1]\n",
    "max_french_sequence_length = y.shape[1]\n",
    "english_vocab_size = len(x_tk.word_index)\n",
    "french_vocab_size = len(y_tk.word_index)\n",
    "\n",
    "x = pad(x, max_french_sequence_length)\n",
    "\n",
    "# set up the model\n",
    "model = Bd_Emb_model(\n",
    "        x.shape,\n",
    "        max_french_sequence_length,\n",
    "        english_vocab_size,\n",
    "        french_vocab_size)\n",
    "\n",
    "# print a summary of the model\n",
    "model.summary()\n",
    "print('\\n')\n",
    "\n",
    "# model training\n",
    "history = model.fit(x, y, batch_size=256, epochs=30, validation_split=0.2)\n",
    "\n",
    "# plot the history for accuracy for the training process\n",
    "pltrain(history)\n",
    "\n",
    "# save the model into \"my_final_model.h5\"\n",
    "model.save('my_final_model.h5')"
   ]
  },
  {
   "cell_type": "code",
   "execution_count": 22,
   "metadata": {},
   "outputs": [],
   "source": [
    "# make translation from English to French with text input using an input model\n",
    "def translate(model):\n",
    "    input_txt=input('Please enter some English in lower case:')\n",
    "    \n",
    "    y_id_to_word = {value: key for key, value in y_tk.word_index.items()}\n",
    "    y_id_to_word[0] = '<PAD>'\n",
    "\n",
    "    sentence = input_txt\n",
    "    sentence = [x_tk.word_index[word] for word in sentence.split()]\n",
    "    sentence = pad_sequences([sentence], maxlen=x.shape[-1], padding='post')\n",
    "    sentences = np.array([sentence[0], x[0]])\n",
    "    predictions = model.predict(sentences, len(sentences))\n",
    "\n",
    "    print('You have enter:', input_txt)\n",
    "    print('Translated to French:')\n",
    "    print(' '.join([y_id_to_word[np.argmax(x)] for x in predictions[0]]))\n",
    "\n",
    "# load the saved model\n",
    "model = load_model('my_final_model.h5')"
   ]
  },
  {
   "cell_type": "code",
   "execution_count": 38,
   "metadata": {},
   "outputs": [
    {
     "name": "stdout",
     "output_type": "stream",
     "text": [
      "Please enter some English in lower case:i want to go\n",
      "You have enter: i want to go\n",
      "Translated to French:\n",
      "je veut aller en <PAD> <PAD> <PAD> <PAD> <PAD> <PAD> <PAD> <PAD> <PAD> <PAD> <PAD> <PAD> <PAD> <PAD> <PAD> <PAD> <PAD>\n"
     ]
    }
   ],
   "source": [
    "# make translation from English to French with text input using an input model\n",
    "translate(model)"
   ]
  },
  {
   "cell_type": "code",
   "execution_count": 41,
   "metadata": {},
   "outputs": [
    {
     "name": "stdout",
     "output_type": "stream",
     "text": [
      "Please enter some English in lower case:he is going to france\n",
      "You have enter: he is going to france\n",
      "Translated to French:\n",
      "il va en france <PAD> <PAD> <PAD> <PAD> <PAD> <PAD> <PAD> <PAD> <PAD> <PAD> <PAD> <PAD> <PAD> <PAD> <PAD> <PAD> <PAD>\n"
     ]
    }
   ],
   "source": [
    "# make translation from English to French with text input using an input model\n",
    "translate(model)"
   ]
  },
  {
   "cell_type": "code",
   "execution_count": 54,
   "metadata": {},
   "outputs": [
    {
     "name": "stdout",
     "output_type": "stream",
     "text": [
      "Please enter some English in lower case:he was driving the yellow car\n",
      "You have enter: he was driving the yellow car\n",
      "Translated to French:\n",
      "il conduisait la voiture voiture <PAD> <PAD> <PAD> <PAD> <PAD> <PAD> <PAD> <PAD> <PAD> <PAD> <PAD> <PAD> <PAD> <PAD> <PAD> <PAD>\n"
     ]
    }
   ],
   "source": [
    "# make translation from English to French with text input using an input model\n",
    "translate(model)"
   ]
  },
  {
   "cell_type": "code",
   "execution_count": 52,
   "metadata": {},
   "outputs": [
    {
     "name": "stdout",
     "output_type": "stream",
     "text": [
      "Please enter some English in lower case:california is sometimes chilly during winter\n",
      "You have enter: california is sometimes chilly during winter\n",
      "Translated to French:\n",
      "californie est parfois froid en l' hiver <PAD> <PAD> <PAD> <PAD> <PAD> <PAD> <PAD> <PAD> <PAD> <PAD> <PAD> <PAD> <PAD> <PAD>\n"
     ]
    }
   ],
   "source": [
    "# make translation from English to French with text input using an input model\n",
    "translate(model)"
   ]
  },
  {
   "cell_type": "markdown",
   "metadata": {},
   "source": [
    "# 6. Conclusion"
   ]
  },
  {
   "cell_type": "markdown",
   "metadata": {},
   "source": [
    "Overall, Bidirectional RNN with Embedding model does a good job in machine translation, with high accuracy rate. To further improve the translation quality and range, a bigger training dataset with more unique vocabulary and sentences is required, as well as more complicated pre-processing methods on the data and model architectures. It will also means that a well-equipped computing unit is necessary so that the training can be performed smoothly."
   ]
  }
 ],
 "metadata": {
  "kernelspec": {
   "display_name": "Python 3",
   "language": "python",
   "name": "python3"
  },
  "language_info": {
   "codemirror_mode": {
    "name": "ipython",
    "version": 3
   },
   "file_extension": ".py",
   "mimetype": "text/x-python",
   "name": "python",
   "nbconvert_exporter": "python",
   "pygments_lexer": "ipython3",
   "version": "3.7.3"
  }
 },
 "nbformat": 4,
 "nbformat_minor": 1
}
